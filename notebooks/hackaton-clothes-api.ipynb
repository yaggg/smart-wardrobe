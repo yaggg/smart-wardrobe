{
 "cells": [
  {
   "cell_type": "code",
   "execution_count": 251,
   "outputs": [
    {
     "data": {
      "text/plain": "['../data/fashion-products/images/19541.jpg']"
     },
     "metadata": {},
     "output_type": "execute_result",
     "execution_count": 251
    }
   ],
   "source": [
    "from clothes.wardrobe import Wardrobe\n",
    "from clothes.clothes_inference import ClothesMapper\n",
    "\n",
    "mapper = ClothesMapper()\n",
    "items = mapper.get_item_types_for_weather('Summer', 20.1, 'rainy')\n",
    "\n",
    "wardrobe = Wardrobe()\n",
    "wardrobe.retrieve_clothes_for_type('Gloves')\n"
   ],
   "metadata": {
    "collapsed": false,
    "pycharm": {
     "name": "#%%\n",
     "is_executing": false
    }
   }
  }
 ],
 "metadata": {
  "kernelspec": {
   "display_name": "Python 3",
   "language": "python",
   "name": "python3"
  },
  "language_info": {
   "codemirror_mode": {
    "name": "ipython",
    "version": 2
   },
   "file_extension": ".py",
   "mimetype": "text/x-python",
   "name": "python",
   "nbconvert_exporter": "python",
   "pygments_lexer": "ipython2",
   "version": "2.7.6"
  },
  "pycharm": {
   "stem_cell": {
    "cell_type": "raw",
    "source": [],
    "metadata": {
     "collapsed": false
    }
   }
  }
 },
 "nbformat": 4,
 "nbformat_minor": 0
}